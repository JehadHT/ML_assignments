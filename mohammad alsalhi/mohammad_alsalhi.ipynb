{
 "cells": [
  {
   "cell_type": "markdown",
   "metadata": {
    "id": "aumz12Uv0jne"
   },
   "source": [
    "# KNN Algorithm"
   ]
  },
  {
   "cell_type": "markdown",
   "metadata": {
    "id": "HtLioD-wuqSo"
   },
   "source": [
    "# Importing dependencies"
   ]
  },
  {
   "cell_type": "code",
   "execution_count": 1,
   "metadata": {
    "id": "m99QW95GX4-0"
   },
   "outputs": [],
   "source": [
    "import numpy as np\n",
    "import pandas as pd\n",
    "from sklearn.model_selection import train_test_split\n",
    "from sklearn.neighbors import KNeighborsClassifier\n",
    "import matplotlib.pyplot as plt\n",
    "import seaborn as sns\n",
    "from sklearn.preprocessing import LabelEncoder, OneHotEncoder\n"
   ]
  },
  {
   "cell_type": "markdown",
   "metadata": {
    "id": "32Spp8QJzi87"
   },
   "source": [
    "# What is the K-Nearest Neighbors Algorithm?\n",
    "KNN is one of the most basic yet essential classification algorithms in machine learning. It belongs to the supervised learning domain and finds intense application in pattern recognition, data mining, and intrusion detection.\n",
    "\n",
    "It is widely disposable in real-life scenarios since it is non-parametric, meaning it does not make any underlying assumptions about the distribution of data. We are given some prior data (also called training data), which classifies coordinates into groups identified by an attribute.\n",
    "\n",
    "Given another set of data points (also called testing data), allocate these points to a group by analyzing the training set."
   ]
  },
  {
   "cell_type": "markdown",
   "metadata": {
    "id": "wOS1lUk1vflC"
   },
   "source": [
    "# Loading our data"
   ]
  },
  {
   "cell_type": "code",
   "execution_count": 2,
   "metadata": {
    "colab": {
     "base_uri": "https://localhost:8080/",
     "height": 206
    },
    "id": "GnTxlOhiX563",
    "outputId": "5c4bcbe0-ac34-4dcc-ed83-2d2135502120"
   },
   "outputs": [
    {
     "data": {
      "text/html": [
       "<div>\n",
       "<style scoped>\n",
       "    .dataframe tbody tr th:only-of-type {\n",
       "        vertical-align: middle;\n",
       "    }\n",
       "\n",
       "    .dataframe tbody tr th {\n",
       "        vertical-align: top;\n",
       "    }\n",
       "\n",
       "    .dataframe thead th {\n",
       "        text-align: right;\n",
       "    }\n",
       "</style>\n",
       "<table border=\"1\" class=\"dataframe\">\n",
       "  <thead>\n",
       "    <tr style=\"text-align: right;\">\n",
       "      <th></th>\n",
       "      <th>Unnamed: 0</th>\n",
       "      <th>title</th>\n",
       "      <th>year</th>\n",
       "      <th>kind</th>\n",
       "      <th>genre</th>\n",
       "      <th>rating</th>\n",
       "      <th>vote</th>\n",
       "      <th>country</th>\n",
       "      <th>language</th>\n",
       "      <th>cast</th>\n",
       "      <th>director</th>\n",
       "      <th>composer</th>\n",
       "      <th>writer</th>\n",
       "      <th>runtime</th>\n",
       "    </tr>\n",
       "  </thead>\n",
       "  <tbody>\n",
       "    <tr>\n",
       "      <th>0</th>\n",
       "      <td>0</td>\n",
       "      <td>Dinosaur Planet</td>\n",
       "      <td>2003.0</td>\n",
       "      <td>tv mini series</td>\n",
       "      <td>['Documentary', 'Animation', 'Family']</td>\n",
       "      <td>7.7</td>\n",
       "      <td>474.0</td>\n",
       "      <td>['United States']</td>\n",
       "      <td>['English']</td>\n",
       "      <td>['Christian Slater', 'Scott Sampson']</td>\n",
       "      <td>NaN</td>\n",
       "      <td>NaN</td>\n",
       "      <td>['Mike Carrol', 'Mike Carroll', 'Georgann Kane']</td>\n",
       "      <td>50.0</td>\n",
       "    </tr>\n",
       "    <tr>\n",
       "      <th>1</th>\n",
       "      <td>1</td>\n",
       "      <td>Character</td>\n",
       "      <td>2021.0</td>\n",
       "      <td>movie</td>\n",
       "      <td>['Crime', 'Horror', 'Thriller']</td>\n",
       "      <td>8.3</td>\n",
       "      <td>46.0</td>\n",
       "      <td>['Japan']</td>\n",
       "      <td>['Japanese']</td>\n",
       "      <td>['Masaki Suda', 'Fukase', 'Mitsuki Takahata', ...</td>\n",
       "      <td>['Akira Nagai']</td>\n",
       "      <td>['Youki Kojima']</td>\n",
       "      <td>['Takashi Nagasaki', 'Takashi Nagasaki', 'Anna...</td>\n",
       "      <td>125.0</td>\n",
       "    </tr>\n",
       "    <tr>\n",
       "      <th>2</th>\n",
       "      <td>2</td>\n",
       "      <td>Get Up and Dance!</td>\n",
       "      <td>1994.0</td>\n",
       "      <td>video movie</td>\n",
       "      <td>['Family']</td>\n",
       "      <td>8.1</td>\n",
       "      <td>18.0</td>\n",
       "      <td>['United States']</td>\n",
       "      <td>['English']</td>\n",
       "      <td>['Paula Abdul', 'Aurorah Allain', 'Bill Bohl',...</td>\n",
       "      <td>['Steve Purcell']</td>\n",
       "      <td>NaN</td>\n",
       "      <td>NaN</td>\n",
       "      <td>54.0</td>\n",
       "    </tr>\n",
       "    <tr>\n",
       "      <th>3</th>\n",
       "      <td>3</td>\n",
       "      <td>The Rise and Fall of El Chapo</td>\n",
       "      <td>2016.0</td>\n",
       "      <td>tv movie</td>\n",
       "      <td>['Documentary']</td>\n",
       "      <td>6.9</td>\n",
       "      <td>42.0</td>\n",
       "      <td>['United States']</td>\n",
       "      <td>NaN</td>\n",
       "      <td>NaN</td>\n",
       "      <td>NaN</td>\n",
       "      <td>NaN</td>\n",
       "      <td>NaN</td>\n",
       "      <td>85.0</td>\n",
       "    </tr>\n",
       "    <tr>\n",
       "      <th>4</th>\n",
       "      <td>4</td>\n",
       "      <td>Sick - IMDb</td>\n",
       "      <td>NaN</td>\n",
       "      <td>NaN</td>\n",
       "      <td>['Thriller']</td>\n",
       "      <td>NaN</td>\n",
       "      <td>NaN</td>\n",
       "      <td>['United States']</td>\n",
       "      <td>NaN</td>\n",
       "      <td>['Marc Menchaca', 'Gideon Adlon', 'Dylan Spray...</td>\n",
       "      <td>['John Hyams']</td>\n",
       "      <td>NaN</td>\n",
       "      <td>['Katelyn Crabb', 'Kevin Williamson']</td>\n",
       "      <td>NaN</td>\n",
       "    </tr>\n",
       "  </tbody>\n",
       "</table>\n",
       "</div>"
      ],
      "text/plain": [
       "   Unnamed: 0                          title    year            kind  \\\n",
       "0           0                Dinosaur Planet  2003.0  tv mini series   \n",
       "1           1                      Character  2021.0           movie   \n",
       "2           2              Get Up and Dance!  1994.0     video movie   \n",
       "3           3  The Rise and Fall of El Chapo  2016.0        tv movie   \n",
       "4           4                    Sick - IMDb     NaN             NaN   \n",
       "\n",
       "                                    genre  rating   vote            country  \\\n",
       "0  ['Documentary', 'Animation', 'Family']     7.7  474.0  ['United States']   \n",
       "1         ['Crime', 'Horror', 'Thriller']     8.3   46.0          ['Japan']   \n",
       "2                              ['Family']     8.1   18.0  ['United States']   \n",
       "3                         ['Documentary']     6.9   42.0  ['United States']   \n",
       "4                            ['Thriller']     NaN    NaN  ['United States']   \n",
       "\n",
       "       language                                               cast  \\\n",
       "0   ['English']              ['Christian Slater', 'Scott Sampson']   \n",
       "1  ['Japanese']  ['Masaki Suda', 'Fukase', 'Mitsuki Takahata', ...   \n",
       "2   ['English']  ['Paula Abdul', 'Aurorah Allain', 'Bill Bohl',...   \n",
       "3           NaN                                                NaN   \n",
       "4           NaN  ['Marc Menchaca', 'Gideon Adlon', 'Dylan Spray...   \n",
       "\n",
       "            director          composer  \\\n",
       "0                NaN               NaN   \n",
       "1    ['Akira Nagai']  ['Youki Kojima']   \n",
       "2  ['Steve Purcell']               NaN   \n",
       "3                NaN               NaN   \n",
       "4     ['John Hyams']               NaN   \n",
       "\n",
       "                                              writer  runtime  \n",
       "0   ['Mike Carrol', 'Mike Carroll', 'Georgann Kane']     50.0  \n",
       "1  ['Takashi Nagasaki', 'Takashi Nagasaki', 'Anna...    125.0  \n",
       "2                                                NaN     54.0  \n",
       "3                                                NaN     85.0  \n",
       "4              ['Katelyn Crabb', 'Kevin Williamson']      NaN  "
      ]
     },
     "execution_count": 2,
     "metadata": {},
     "output_type": "execute_result"
    }
   ],
   "source": [
    "# add the link of your dataset here:\n",
    "df = pd.read_csv('imdb.csv')\n",
    "\n",
    "df.head()"
   ]
  },
  {
   "cell_type": "markdown",
   "metadata": {
    "id": "khHJctPEv9Pb"
   },
   "source": [
    "## Data Dictionary\n",
    "- Age:  Age in years.\n",
    "- fare:  Passenger fare.\n",
    "- sex:  Sex of the passenger.\n",
    "- sibsp  # of siblings / spouses aboard the Titanic.\n",
    "- parch  # of parents / children aboard the Titanic.\n",
    "- pclass  Ticket class  1 = 1st, 2 = 2nd, 3 = 3rd.\n",
    "- embarked  Port of Embarkation  0 = Cherbourg, 1 = Queenstown, 3 = Southampton.\n",
    "- survival  Survival  0 = No, 1 = Yes.\n"
   ]
  },
  {
   "cell_type": "markdown",
   "metadata": {
    "id": "NXlWLm-kwP7Z"
   },
   "source": [
    "# Data Preprocessing"
   ]
  },
  {
   "cell_type": "markdown",
   "metadata": {
    "id": "0-S68mMpymfU"
   },
   "source": [
    "Removing null values"
   ]
  },
  {
   "cell_type": "code",
   "execution_count": 3,
   "metadata": {
    "colab": {
     "base_uri": "https://localhost:8080/"
    },
    "id": "-z7i0Kg-Zkbr",
    "outputId": "a0f44eaf-2520-4f17-9f04-85576684e430"
   },
   "outputs": [
    {
     "data": {
      "text/plain": [
       "(9826, 14)"
      ]
     },
     "execution_count": 3,
     "metadata": {},
     "output_type": "execute_result"
    }
   ],
   "source": [
    "df.shape"
   ]
  },
  {
   "cell_type": "code",
   "execution_count": 4,
   "metadata": {
    "colab": {
     "base_uri": "https://localhost:8080/"
    },
    "id": "eIUD0CjuZmpA",
    "outputId": "07762c57-6689-4445-a0ed-cd51d51118a1"
   },
   "outputs": [
    {
     "data": {
      "text/plain": [
       "Unnamed: 0       0\n",
       "title            1\n",
       "year            70\n",
       "kind            38\n",
       "genre           93\n",
       "rating         877\n",
       "vote           877\n",
       "country        665\n",
       "language       793\n",
       "cast           344\n",
       "director      1860\n",
       "composer      3622\n",
       "writer        1656\n",
       "runtime       1056\n",
       "dtype: int64"
      ]
     },
     "execution_count": 4,
     "metadata": {},
     "output_type": "execute_result"
    }
   ],
   "source": [
    "df.isnull().sum(axis = 0)"
   ]
  },
  {
   "cell_type": "code",
   "execution_count": 5,
   "metadata": {
    "colab": {
     "base_uri": "https://localhost:8080/"
    },
    "id": "MVNMNtTnZpJ4",
    "outputId": "e7a2afcb-74c8-40eb-fffc-266c519d84e8"
   },
   "outputs": [
    {
     "data": {
      "text/plain": [
       "Unnamed: 0    0\n",
       "title         0\n",
       "year          0\n",
       "kind          0\n",
       "genre         0\n",
       "rating        0\n",
       "vote          0\n",
       "country       0\n",
       "language      0\n",
       "cast          0\n",
       "director      0\n",
       "composer      0\n",
       "writer        0\n",
       "runtime       0\n",
       "dtype: int64"
      ]
     },
     "execution_count": 5,
     "metadata": {},
     "output_type": "execute_result"
    }
   ],
   "source": [
    "df = df.dropna()\n",
    "df.isnull().sum(axis = 0)"
   ]
  },
  {
   "cell_type": "code",
   "execution_count": 6,
   "metadata": {
    "colab": {
     "base_uri": "https://localhost:8080/"
    },
    "id": "eD0_HeI5ZtkZ",
    "outputId": "30b2906f-04b2-4c0f-8bc7-47c5c8be85e6"
   },
   "outputs": [
    {
     "data": {
      "text/plain": [
       "(5645, 14)"
      ]
     },
     "execution_count": 6,
     "metadata": {},
     "output_type": "execute_result"
    }
   ],
   "source": [
    "df.shape"
   ]
  },
  {
   "cell_type": "code",
   "execution_count": 7,
   "metadata": {
    "colab": {
     "base_uri": "https://localhost:8080/",
     "height": 206
    },
    "id": "_QTKOTqyZvqx",
    "outputId": "0261da64-d811-4795-89b7-a6ac80cc9e92"
   },
   "outputs": [
    {
     "data": {
      "text/html": [
       "<div>\n",
       "<style scoped>\n",
       "    .dataframe tbody tr th:only-of-type {\n",
       "        vertical-align: middle;\n",
       "    }\n",
       "\n",
       "    .dataframe tbody tr th {\n",
       "        vertical-align: top;\n",
       "    }\n",
       "\n",
       "    .dataframe thead th {\n",
       "        text-align: right;\n",
       "    }\n",
       "</style>\n",
       "<table border=\"1\" class=\"dataframe\">\n",
       "  <thead>\n",
       "    <tr style=\"text-align: right;\">\n",
       "      <th></th>\n",
       "      <th>Unnamed: 0</th>\n",
       "      <th>title</th>\n",
       "      <th>year</th>\n",
       "      <th>kind</th>\n",
       "      <th>genre</th>\n",
       "      <th>rating</th>\n",
       "      <th>vote</th>\n",
       "      <th>country</th>\n",
       "      <th>language</th>\n",
       "      <th>cast</th>\n",
       "      <th>director</th>\n",
       "      <th>composer</th>\n",
       "      <th>writer</th>\n",
       "      <th>runtime</th>\n",
       "    </tr>\n",
       "  </thead>\n",
       "  <tbody>\n",
       "    <tr>\n",
       "      <th>1</th>\n",
       "      <td>1</td>\n",
       "      <td>Character</td>\n",
       "      <td>2021.0</td>\n",
       "      <td>movie</td>\n",
       "      <td>['Crime', 'Horror', 'Thriller']</td>\n",
       "      <td>8.3</td>\n",
       "      <td>46.0</td>\n",
       "      <td>['Japan']</td>\n",
       "      <td>['Japanese']</td>\n",
       "      <td>['Masaki Suda', 'Fukase', 'Mitsuki Takahata', ...</td>\n",
       "      <td>['Akira Nagai']</td>\n",
       "      <td>['Youki Kojima']</td>\n",
       "      <td>['Takashi Nagasaki', 'Takashi Nagasaki', 'Anna...</td>\n",
       "      <td>125.0</td>\n",
       "    </tr>\n",
       "    <tr>\n",
       "      <th>5</th>\n",
       "      <td>5</td>\n",
       "      <td>8 Man</td>\n",
       "      <td>1992.0</td>\n",
       "      <td>movie</td>\n",
       "      <td>['Action', 'Sci-Fi']</td>\n",
       "      <td>5.5</td>\n",
       "      <td>93.0</td>\n",
       "      <td>['Japan']</td>\n",
       "      <td>['Japanese']</td>\n",
       "      <td>['Kai Shishido', 'Etsushi Takahashi', 'Sachiko...</td>\n",
       "      <td>['Yasuhiro Horiuchi']</td>\n",
       "      <td>['Carole King']</td>\n",
       "      <td>['Kazumasa Hirai', 'Jirô Kuwata', 'Junko Suzuki']</td>\n",
       "      <td>83.0</td>\n",
       "    </tr>\n",
       "    <tr>\n",
       "      <th>6</th>\n",
       "      <td>6</td>\n",
       "      <td>What the #$*! Do We (K)now!?</td>\n",
       "      <td>2004.0</td>\n",
       "      <td>movie</td>\n",
       "      <td>['Documentary', 'Comedy', 'Drama', 'Fantasy', ...</td>\n",
       "      <td>5.3</td>\n",
       "      <td>13432.0</td>\n",
       "      <td>['United States']</td>\n",
       "      <td>['English', 'German', 'Spanish']</td>\n",
       "      <td>['Marlee Matlin', 'Elaine Hendrix', 'John Ross...</td>\n",
       "      <td>['William Arntz', 'Betsy Chasse', 'Mark Vicente']</td>\n",
       "      <td>['Christopher Franke']</td>\n",
       "      <td>['William Arntz', 'Betsy Chasse', 'Matthew Hof...</td>\n",
       "      <td>109.0</td>\n",
       "    </tr>\n",
       "    <tr>\n",
       "      <th>7</th>\n",
       "      <td>7</td>\n",
       "      <td>Class of Nuke 'Em High Part II: Subhumanoid Me...</td>\n",
       "      <td>1991.0</td>\n",
       "      <td>movie</td>\n",
       "      <td>['Comedy', 'Horror', 'Sci-Fi']</td>\n",
       "      <td>4.5</td>\n",
       "      <td>2177.0</td>\n",
       "      <td>['United States']</td>\n",
       "      <td>['English']</td>\n",
       "      <td>['Brick Bronsky', 'Lisa Gaye', 'Leesa Rowland'...</td>\n",
       "      <td>['Eric Louzil']</td>\n",
       "      <td>['Bob Mithoff']</td>\n",
       "      <td>['Lloyd Kaufman', 'Carl Morano', 'Matt Unger']</td>\n",
       "      <td>96.0</td>\n",
       "    </tr>\n",
       "    <tr>\n",
       "      <th>8</th>\n",
       "      <td>8</td>\n",
       "      <td>The Fighter</td>\n",
       "      <td>2010.0</td>\n",
       "      <td>movie</td>\n",
       "      <td>['Biography', 'Drama', 'Sport']</td>\n",
       "      <td>7.8</td>\n",
       "      <td>351199.0</td>\n",
       "      <td>['United States']</td>\n",
       "      <td>['English']</td>\n",
       "      <td>['Mark Wahlberg', 'Christian Bale', 'Amy Adams...</td>\n",
       "      <td>['David O. Russell']</td>\n",
       "      <td>['Michael Brook']</td>\n",
       "      <td>['Scott Silver', 'Paul Tamasy', 'Eric Johnson']</td>\n",
       "      <td>116.0</td>\n",
       "    </tr>\n",
       "  </tbody>\n",
       "</table>\n",
       "</div>"
      ],
      "text/plain": [
       "   Unnamed: 0                                              title    year  \\\n",
       "1           1                                          Character  2021.0   \n",
       "5           5                                              8 Man  1992.0   \n",
       "6           6                       What the #$*! Do We (K)now!?  2004.0   \n",
       "7           7  Class of Nuke 'Em High Part II: Subhumanoid Me...  1991.0   \n",
       "8           8                                        The Fighter  2010.0   \n",
       "\n",
       "    kind                                              genre  rating      vote  \\\n",
       "1  movie                    ['Crime', 'Horror', 'Thriller']     8.3      46.0   \n",
       "5  movie                               ['Action', 'Sci-Fi']     5.5      93.0   \n",
       "6  movie  ['Documentary', 'Comedy', 'Drama', 'Fantasy', ...     5.3   13432.0   \n",
       "7  movie                     ['Comedy', 'Horror', 'Sci-Fi']     4.5    2177.0   \n",
       "8  movie                    ['Biography', 'Drama', 'Sport']     7.8  351199.0   \n",
       "\n",
       "             country                          language  \\\n",
       "1          ['Japan']                      ['Japanese']   \n",
       "5          ['Japan']                      ['Japanese']   \n",
       "6  ['United States']  ['English', 'German', 'Spanish']   \n",
       "7  ['United States']                       ['English']   \n",
       "8  ['United States']                       ['English']   \n",
       "\n",
       "                                                cast  \\\n",
       "1  ['Masaki Suda', 'Fukase', 'Mitsuki Takahata', ...   \n",
       "5  ['Kai Shishido', 'Etsushi Takahashi', 'Sachiko...   \n",
       "6  ['Marlee Matlin', 'Elaine Hendrix', 'John Ross...   \n",
       "7  ['Brick Bronsky', 'Lisa Gaye', 'Leesa Rowland'...   \n",
       "8  ['Mark Wahlberg', 'Christian Bale', 'Amy Adams...   \n",
       "\n",
       "                                            director                composer  \\\n",
       "1                                    ['Akira Nagai']        ['Youki Kojima']   \n",
       "5                              ['Yasuhiro Horiuchi']         ['Carole King']   \n",
       "6  ['William Arntz', 'Betsy Chasse', 'Mark Vicente']  ['Christopher Franke']   \n",
       "7                                    ['Eric Louzil']         ['Bob Mithoff']   \n",
       "8                               ['David O. Russell']       ['Michael Brook']   \n",
       "\n",
       "                                              writer  runtime  \n",
       "1  ['Takashi Nagasaki', 'Takashi Nagasaki', 'Anna...    125.0  \n",
       "5  ['Kazumasa Hirai', 'Jirô Kuwata', 'Junko Suzuki']     83.0  \n",
       "6  ['William Arntz', 'Betsy Chasse', 'Matthew Hof...    109.0  \n",
       "7     ['Lloyd Kaufman', 'Carl Morano', 'Matt Unger']     96.0  \n",
       "8    ['Scott Silver', 'Paul Tamasy', 'Eric Johnson']    116.0  "
      ]
     },
     "execution_count": 7,
     "metadata": {},
     "output_type": "execute_result"
    }
   ],
   "source": [
    "df.head()"
   ]
  },
  {
   "cell_type": "markdown",
   "metadata": {
    "id": "OPrJt5DNwg5t"
   },
   "source": [
    "Splitting the data into training and testing data"
   ]
  },
  {
   "cell_type": "code",
   "execution_count": 8,
   "metadata": {
    "id": "6yMqV5WoYMW6"
   },
   "outputs": [],
   "source": [
    "y = df['runtime']\n",
    "X = df.drop('runtime', axis = 1)\n",
    "\n",
    "X_train, X_test, y_train, y_test = train_test_split(\n",
    "\t\t\tX, y, test_size = 0.3, random_state = 0)\n",
    "\n"
   ]
  },
  {
   "cell_type": "code",
   "execution_count": 9,
   "metadata": {},
   "outputs": [],
   "source": [
    "label_encoder = LabelEncoder()\n",
    "for column in X.columns:\n",
    "    if X[column].dtype == 'object':\n",
    "        X[column] = label_encoder.fit_transform(X[column])\n",
    "onehot_encoder = OneHotEncoder(handle_unknown='ignore')\n",
    "X_encoded = onehot_encoder.fit_transform(X)\n",
    "X_train, X_test, y_train, y_test = train_test_split(X_encoded, y, test_size=0.2, random_state=42)        "
   ]
  },
  {
   "cell_type": "markdown",
   "metadata": {
    "id": "YnaTA-qv0M0u"
   },
   "source": [
    "# How to choose the value of k for KNN Algorithm?\n",
    "\n",
    "The value of k is very crucial in the KNN algorithm to define the number of neighbors in the algorithm. The value of k in the k-nearest neighbors (k-NN) algorithm should be chosen based on the input data. If the input data has more outliers or noise, a higher value of k would be better. It is recommended to choose an odd value for k to avoid ties in classification"
   ]
  },
  {
   "cell_type": "markdown",
   "metadata": {
    "id": "79LdOHbywlhq"
   },
   "source": [
    "Here we've tried a range of K values.\n",
    "Feel free to try the range you want and see what's the best value."
   ]
  },
  {
   "cell_type": "code",
   "execution_count": 10,
   "metadata": {
    "id": "Y_SWKQbMYPRE"
   },
   "outputs": [],
   "source": [
    "K = []\n",
    "training = []\n",
    "test = []\n",
    "scores = {}\n",
    "\n",
    "for k in range(2, 21):\n",
    "    clf = KNeighborsClassifier(n_neighbors=k)\n",
    "    clf.fit(X_train, y_train)\n",
    "\n",
    "    training_score = clf.score(X_train, y_train)\n",
    "    test_score = clf.score(X_test, y_test)\n",
    "\n",
    "    K.append(k)\n",
    "    training.append(training_score)\n",
    "    test.append(test_score)\n",
    "    scores[k] = [training_score, test_score]\n"
   ]
  },
  {
   "cell_type": "code",
   "execution_count": 70,
   "metadata": {
    "colab": {
     "base_uri": "https://localhost:8080/"
    },
    "id": "5PwKrw2OZERg",
    "outputId": "1afd1d86-cc21-4105-b0fb-2fd17b95930c"
   },
   "outputs": [
    {
     "name": "stdout",
     "output_type": "stream",
     "text": [
      "2 : [0.521257750221435, 0.06554472984942426]\n",
      "3 : [0.36315323294951285, 0.05845881310894597]\n",
      "4 : [0.29295837023914967, 0.053144375553587246]\n",
      "5 : [0.25398582816651905, 0.050487156775907885]\n",
      "6 : [0.22807794508414525, 0.049601417183348095]\n",
      "7 : [0.21722763507528786, 0.042515500442869794]\n",
      "8 : [0.20637732506643047, 0.046058458813108945]\n",
      "9 : [0.19685562444641275, 0.046944198405668734]\n",
      "10 : [0.1913197519929141, 0.049601417183348095]\n",
      "11 : [0.18888396811337466, 0.046944198405668734]\n",
      "12 : [0.1782550930026572, 0.047829937998228524]\n",
      "13 : [0.17382639503985828, 0.05137289636846767]\n",
      "14 : [0.16762621789193977, 0.047829937998228524]\n",
      "15 : [0.1649689991142604, 0.046944198405668734]\n",
      "16 : [0.16341895482728078, 0.045172719220549155]\n",
      "17 : [0.16031886625332153, 0.04428697962798937]\n",
      "18 : [0.15677590788308238, 0.048715677590788306]\n",
      "19 : [0.1545615589016829, 0.046944198405668734]\n",
      "20 : [0.15057573073516387, 0.046944198405668734]\n"
     ]
    }
   ],
   "source": [
    "for keys, values in scores.items():\n",
    "    print(keys, ':', values)\n"
   ]
  },
  {
   "cell_type": "code",
   "execution_count": 71,
   "metadata": {
    "colab": {
     "base_uri": "https://localhost:8080/",
     "height": 1000
    },
    "id": "6mWclKG6aG7v",
    "outputId": "dd6dd819-7477-4f1f-d690-d36d76cf96f9"
   },
   "outputs": [
    {
     "data": {
      "image/png": "[encoded data removed]",
      "text/plain": [
       "<Figure size 640x480 with 1 Axes>"
      ]
     },
     "metadata": {},
     "output_type": "display_data"
    },
    {
     "data": {
      "image/png": "[encoded data removed]",
      "text/plain": [
       "<Figure size 640x480 with 1 Axes>"
      ]
     },
     "metadata": {},
     "output_type": "display_data"
    },
    {
     "data": {
      "image/png": "[encoded data removed]",
      "text/plain": [
       "<Figure size 640x480 with 1 Axes>"
      ]
     },
     "metadata": {},
     "output_type": "display_data"
    }
   ],
   "source": [
    "# train score.\n",
    "plt.plot(K, training, marker='o', color='k')\n",
    "plt.xlabel('values of k')\n",
    "plt.ylabel('Training Score')\n",
    "plt.show()\n",
    "\n",
    "# Test score.\n",
    "\n",
    "plt.plot(K, test, marker='o', color='g')\n",
    "plt.xlabel('values of k')\n",
    "plt.ylabel('Test Score')\n",
    "plt.show()\n",
    "\n",
    "# Train score Vs. test score\n",
    "\n",
    "plt.scatter(K, training, color='k')\n",
    "plt.scatter(K, test, color='g')\n",
    "plt.show()"
   ]
  },
  {
   "cell_type": "markdown",
   "metadata": {
    "id": "XVj7SzYC0hPW"
   },
   "source": [
    "# K-means Algorithm"
   ]
  },
  {
   "cell_type": "markdown",
   "metadata": {
    "id": "CLOuTGKQ01TP"
   },
   "source": [
    "# Importing dependencies"
   ]
  },
  {
   "cell_type": "code",
   "execution_count": 132,
   "metadata": {
    "id": "vyd-UdmkcSVm"
   },
   "outputs": [],
   "source": [
    "import json\n",
    "import pandas as pd\n",
    "from sklearn.feature_extraction.text import TfidfVectorizer\n",
    "from sklearn.decomposition import PCA\n",
    "from sklearn.cluster import KMeans\n",
    "import matplotlib.pyplot as plt"
   ]
  },
  {
   "cell_type": "code",
   "execution_count": 133,
   "metadata": {
    "id": "5z65_Ew7cXNB"
   },
   "outputs": [],
   "source": [
    "# add the link of your dataset here:\n",
    "\n",
    "df=pd.read_json('sarcasm.json')"
   ]
  },
  {
   "cell_type": "code",
   "execution_count": 135,
   "metadata": {
    "colab": {
     "base_uri": "https://localhost:8080/"
    },
    "id": "IlgzJJK9cpTo",
    "outputId": "1c34535d-1c22-4c8b-8d16-8ad5f531de92"
   },
   "outputs": [
    {
     "name": "stdout",
     "output_type": "stream",
     "text": [
      "0        former versace store clerk sues over secret 'b...\n",
      "1        the 'roseanne' revival catches up to our thorn...\n",
      "2        mom starting to fear son's web series closest ...\n",
      "3        boehner just wants wife to listen, not come up...\n",
      "4        j.k. rowling wishes snape happy birthday in th...\n",
      "                               ...                        \n",
      "26704                 american politics in moral free-fall\n",
      "26705                              america's best 20 hikes\n",
      "26706                                reparations and obama\n",
      "26707    israeli ban targeting boycott supporters raise...\n",
      "26708                    gourmet gifts for the foodie 2014\n",
      "Name: headline, Length: 26709, dtype: object\n"
     ]
    }
   ],
   "source": [
    "# Extract the sentence only\n",
    "sentence = df.headline\n",
    "\n",
    "print(sentence)"
   ]
  },
  {
   "cell_type": "code",
   "execution_count": 136,
   "metadata": {
    "id": "_xML9OOoc4LQ"
   },
   "outputs": [],
   "source": [
    "# create vectorizer\n",
    "vectorizer = TfidfVectorizer(stop_words='english')\n",
    "# vectorizer the text documents\n",
    "vectorized_documents = vectorizer.fit_transform(sentence)"
   ]
  },
  {
   "cell_type": "code",
   "execution_count": null,
   "metadata": {
    "id": "9nS9K4wddBOX"
   },
   "outputs": [],
   "source": [
    "# reduce the dimensionality of the data using PCA\n",
    "pca = PCA(n_components=2)\n",
    "reduced_data = pca.fit_transform(vectorized_documents.toarray())"
   ]
  },
  {
   "cell_type": "code",
   "execution_count": null,
   "metadata": {
    "colab": {
     "base_uri": "https://localhost:8080/",
     "height": 75
    },
    "id": "IlcB00RndQHu",
    "outputId": "434bdb6f-ba31-4b72-f283-05c17faf8577"
   },
   "outputs": [],
   "source": [
    "# cluster the documents using k-means\n",
    "num_clusters = 2\n",
    "kmeans = KMeans(n_clusters=num_clusters, n_init=5,\n",
    "\t\t\t\tmax_iter=500, random_state=42)\n",
    "kmeans.fit(vectorized_documents)"
   ]
  },
  {
   "cell_type": "code",
   "execution_count": 21,
   "metadata": {
    "colab": {
     "base_uri": "https://localhost:8080/",
     "height": 206
    },
    "id": "ib8wfDZhdW4B",
    "outputId": "f51ed2da-3cba-45b4-bb5b-0280b89c6375"
   },
   "outputs": [
    {
     "data": {
      "application/vnd.google.colaboratory.intrinsic+json": {
       "summary": "{\n  \"name\": \"results\",\n  \"rows\": 26709,\n  \"fields\": [\n    {\n      \"column\": \"document\",\n      \"properties\": {\n        \"dtype\": \"string\",\n        \"num_unique_values\": 26602,\n        \"samples\": [\n          \"departing employee not quite important enough for send-off\",\n          \"college student still managing to look like asshole in picture of village he helped build\",\n          \"fun sticker placed on child's ventilator\"\n        ],\n        \"semantic_type\": \"\",\n        \"description\": \"\"\n      }\n    },\n    {\n      \"column\": \"cluster\",\n      \"properties\": {\n        \"dtype\": \"int32\",\n        \"num_unique_values\": 2,\n        \"samples\": [\n          1,\n          0\n        ],\n        \"semantic_type\": \"\",\n        \"description\": \"\"\n      }\n    }\n  ]\n}",
       "type": "dataframe",
       "variable_name": "results"
      },
      "text/html": [
       "\n",
       "  <div id=\"df-0f09ef1a-3bd8-465b-a91d-311c18aa68d1\" class=\"colab-df-container\">\n",
       "    <div>\n",
       "<style scoped>\n",
       "    .dataframe tbody tr th:only-of-type {\n",
       "        vertical-align: middle;\n",
       "    }\n",
       "\n",
       "    .dataframe tbody tr th {\n",
       "        vertical-align: top;\n",
       "    }\n",
       "\n",
       "    .dataframe thead th {\n",
       "        text-align: right;\n",
       "    }\n",
       "</style>\n",
       "<table border=\"1\" class=\"dataframe\">\n",
       "  <thead>\n",
       "    <tr style=\"text-align: right;\">\n",
       "      <th></th>\n",
       "      <th>document</th>\n",
       "      <th>cluster</th>\n",
       "    </tr>\n",
       "  </thead>\n",
       "  <tbody>\n",
       "    <tr>\n",
       "      <th>0</th>\n",
       "      <td>former versace store clerk sues over secret 'b...</td>\n",
       "      <td>0</td>\n",
       "    </tr>\n",
       "    <tr>\n",
       "      <th>1</th>\n",
       "      <td>the 'roseanne' revival catches up to our thorn...</td>\n",
       "      <td>0</td>\n",
       "    </tr>\n",
       "    <tr>\n",
       "      <th>2</th>\n",
       "      <td>mom starting to fear son's web series closest ...</td>\n",
       "      <td>0</td>\n",
       "    </tr>\n",
       "    <tr>\n",
       "      <th>3</th>\n",
       "      <td>boehner just wants wife to listen, not come up...</td>\n",
       "      <td>0</td>\n",
       "    </tr>\n",
       "    <tr>\n",
       "      <th>4</th>\n",
       "      <td>j.k. rowling wishes snape happy birthday in th...</td>\n",
       "      <td>0</td>\n",
       "    </tr>\n",
       "  </tbody>\n",
       "</table>\n",
       "</div>\n",
       "    <div class=\"colab-df-buttons\">\n",
       "\n",
       "  <div class=\"colab-df-container\">\n",
       "    <button class=\"colab-df-convert\" onclick=\"convertToInteractive('df-0f09ef1a-3bd8-465b-a91d-311c18aa68d1')\"\n",
       "            title=\"Convert this dataframe to an interactive table.\"\n",
       "            style=\"display:none;\">\n",
       "\n",
       "  <svg xmlns=\"http://www.w3.org/2000/svg\" height=\"24px\" viewBox=\"0 -960 960 960\">\n",
       "    <path d=\"M120-120v-720h720v720H120Zm60-500h600v-160H180v160Zm220 220h160v-160H400v160Zm0 220h160v-160H400v160ZM180-400h160v-160H180v160Zm440 0h160v-160H620v160ZM180-180h160v-160H180v160Zm440 0h160v-160H620v160Z\"/>\n",
       "  </svg>\n",
       "    </button>\n",
       "\n",
       "  <style>\n",
       "    .colab-df-container {\n",
       "      display:flex;\n",
       "      gap: 12px;\n",
       "    }\n",
       "\n",
       "    .colab-df-convert {\n",
       "      background-color: #E8F0FE;\n",
       "      border: none;\n",
       "      border-radius: 50%;\n",
       "      cursor: pointer;\n",
       "      display: none;\n",
       "      fill: #1967D2;\n",
       "      height: 32px;\n",
       "      padding: 0 0 0 0;\n",
       "      width: 32px;\n",
       "    }\n",
       "\n",
       "    .colab-df-convert:hover {\n",
       "      background-color: #E2EBFA;\n",
       "      box-shadow: 0px 1px 2px rgba(60, 64, 67, 0.3), 0px 1px 3px 1px rgba(60, 64, 67, 0.15);\n",
       "      fill: #174EA6;\n",
       "    }\n",
       "\n",
       "    .colab-df-buttons div {\n",
       "      margin-bottom: 4px;\n",
       "    }\n",
       "\n",
       "    [theme=dark] .colab-df-convert {\n",
       "      background-color: #3B4455;\n",
       "      fill: #D2E3FC;\n",
       "    }\n",
       "\n",
       "    [theme=dark] .colab-df-convert:hover {\n",
       "      background-color: #434B5C;\n",
       "      box-shadow: 0px 1px 3px 1px rgba(0, 0, 0, 0.15);\n",
       "      filter: drop-shadow(0px 1px 2px rgba(0, 0, 0, 0.3));\n",
       "      fill: #FFFFFF;\n",
       "    }\n",
       "  </style>\n",
       "\n",
       "    <script>\n",
       "      const buttonEl =\n",
       "        document.querySelector('#df-0f09ef1a-3bd8-465b-a91d-311c18aa68d1 button.colab-df-convert');\n",
       "      buttonEl.style.display =\n",
       "        google.colab.kernel.accessAllowed ? 'block' : 'none';\n",
       "\n",
       "      async function convertToInteractive(key) {\n",
       "        const element = document.querySelector('#df-0f09ef1a-3bd8-465b-a91d-311c18aa68d1');\n",
       "        const dataTable =\n",
       "          await google.colab.kernel.invokeFunction('convertToInteractive',\n",
       "                                                    [key], {});\n",
       "        if (!dataTable) return;\n",
       "\n",
       "        const docLinkHtml = 'Like what you see? Visit the ' +\n",
       "          '<a target=\"_blank\" href=https://colab.research.google.com/notebooks/data_table.ipynb>data table notebook</a>'\n",
       "          + ' to learn more about interactive tables.';\n",
       "        element.innerHTML = '';\n",
       "        dataTable['output_type'] = 'display_data';\n",
       "        await google.colab.output.renderOutput(dataTable, element);\n",
       "        const docLink = document.createElement('div');\n",
       "        docLink.innerHTML = docLinkHtml;\n",
       "        element.appendChild(docLink);\n",
       "      }\n",
       "    </script>\n",
       "  </div>\n",
       "\n",
       "\n",
       "<div id=\"df-d7af34f3-01b6-431b-894c-9cc6e9463c65\">\n",
       "  <button class=\"colab-df-quickchart\" onclick=\"quickchart('df-d7af34f3-01b6-431b-894c-9cc6e9463c65')\"\n",
       "            title=\"Suggest charts\"\n",
       "            style=\"display:none;\">\n",
       "\n",
       "<svg xmlns=\"http://www.w3.org/2000/svg\" height=\"24px\"viewBox=\"0 0 24 24\"\n",
       "     width=\"24px\">\n",
       "    <g>\n",
       "        <path d=\"M19 3H5c-1.1 0-2 .9-2 2v14c0 1.1.9 2 2 2h14c1.1 0 2-.9 2-2V5c0-1.1-.9-2-2-2zM9 17H7v-7h2v7zm4 0h-2V7h2v10zm4 0h-2v-4h2v4z\"/>\n",
       "    </g>\n",
       "</svg>\n",
       "  </button>\n",
       "\n",
       "<style>\n",
       "  .colab-df-quickchart {\n",
       "      --bg-color: #E8F0FE;\n",
       "      --fill-color: #1967D2;\n",
       "      --hover-bg-color: #E2EBFA;\n",
       "      --hover-fill-color: #174EA6;\n",
       "      --disabled-fill-color: #AAA;\n",
       "      --disabled-bg-color: #DDD;\n",
       "  }\n",
       "\n",
       "  [theme=dark] .colab-df-quickchart {\n",
       "      --bg-color: #3B4455;\n",
       "      --fill-color: #D2E3FC;\n",
       "      --hover-bg-color: #434B5C;\n",
       "      --hover-fill-color: #FFFFFF;\n",
       "      --disabled-bg-color: #3B4455;\n",
       "      --disabled-fill-color: #666;\n",
       "  }\n",
       "\n",
       "  .colab-df-quickchart {\n",
       "    background-color: var(--bg-color);\n",
       "    border: none;\n",
       "    border-radius: 50%;\n",
       "    cursor: pointer;\n",
       "    display: none;\n",
       "    fill: var(--fill-color);\n",
       "    height: 32px;\n",
       "    padding: 0;\n",
       "    width: 32px;\n",
       "  }\n",
       "\n",
       "  .colab-df-quickchart:hover {\n",
       "    background-color: var(--hover-bg-color);\n",
       "    box-shadow: 0 1px 2px rgba(60, 64, 67, 0.3), 0 1px 3px 1px rgba(60, 64, 67, 0.15);\n",
       "    fill: var(--button-hover-fill-color);\n",
       "  }\n",
       "\n",
       "  .colab-df-quickchart-complete:disabled,\n",
       "  .colab-df-quickchart-complete:disabled:hover {\n",
       "    background-color: var(--disabled-bg-color);\n",
       "    fill: var(--disabled-fill-color);\n",
       "    box-shadow: none;\n",
       "  }\n",
       "\n",
       "  .colab-df-spinner {\n",
       "    border: 2px solid var(--fill-color);\n",
       "    border-color: transparent;\n",
       "    border-bottom-color: var(--fill-color);\n",
       "    animation:\n",
       "      spin 1s steps(1) infinite;\n",
       "  }\n",
       "\n",
       "  @keyframes spin {\n",
       "    0% {\n",
       "      border-color: transparent;\n",
       "      border-bottom-color: var(--fill-color);\n",
       "      border-left-color: var(--fill-color);\n",
       "    }\n",
       "    20% {\n",
       "      border-color: transparent;\n",
       "      border-left-color: var(--fill-color);\n",
       "      border-top-color: var(--fill-color);\n",
       "    }\n",
       "    30% {\n",
       "      border-color: transparent;\n",
       "      border-left-color: var(--fill-color);\n",
       "      border-top-color: var(--fill-color);\n",
       "      border-right-color: var(--fill-color);\n",
       "    }\n",
       "    40% {\n",
       "      border-color: transparent;\n",
       "      border-right-color: var(--fill-color);\n",
       "      border-top-color: var(--fill-color);\n",
       "    }\n",
       "    60% {\n",
       "      border-color: transparent;\n",
       "      border-right-color: var(--fill-color);\n",
       "    }\n",
       "    80% {\n",
       "      border-color: transparent;\n",
       "      border-right-color: var(--fill-color);\n",
       "      border-bottom-color: var(--fill-color);\n",
       "    }\n",
       "    90% {\n",
       "      border-color: transparent;\n",
       "      border-bottom-color: var(--fill-color);\n",
       "    }\n",
       "  }\n",
       "</style>\n",
       "\n",
       "  <script>\n",
       "    async function quickchart(key) {\n",
       "      const quickchartButtonEl =\n",
       "        document.querySelector('#' + key + ' button');\n",
       "      quickchartButtonEl.disabled = true;  // To prevent multiple clicks.\n",
       "      quickchartButtonEl.classList.add('colab-df-spinner');\n",
       "      try {\n",
       "        const charts = await google.colab.kernel.invokeFunction(\n",
       "            'suggestCharts', [key], {});\n",
       "      } catch (error) {\n",
       "        console.error('Error during call to suggestCharts:', error);\n",
       "      }\n",
       "      quickchartButtonEl.classList.remove('colab-df-spinner');\n",
       "      quickchartButtonEl.classList.add('colab-df-quickchart-complete');\n",
       "    }\n",
       "    (() => {\n",
       "      let quickchartButtonEl =\n",
       "        document.querySelector('#df-d7af34f3-01b6-431b-894c-9cc6e9463c65 button');\n",
       "      quickchartButtonEl.style.display =\n",
       "        google.colab.kernel.accessAllowed ? 'block' : 'none';\n",
       "    })();\n",
       "  </script>\n",
       "</div>\n",
       "    </div>\n",
       "  </div>\n"
      ],
      "text/plain": [
       "                                            document  cluster\n",
       "0  former versace store clerk sues over secret 'b...        0\n",
       "1  the 'roseanne' revival catches up to our thorn...        0\n",
       "2  mom starting to fear son's web series closest ...        0\n",
       "3  boehner just wants wife to listen, not come up...        0\n",
       "4  j.k. rowling wishes snape happy birthday in th...        0"
      ]
     },
     "execution_count": 21,
     "metadata": {},
     "output_type": "execute_result"
    }
   ],
   "source": [
    "\n",
    "# create a dataframe to store the results\n",
    "results = pd.DataFrame()\n",
    "\n",
    "results['document'] = sentence\n",
    "results['cluster'] = kmeans.labels_\n",
    "\n",
    "results.head()"
   ]
  },
  {
   "cell_type": "code",
   "execution_count": 23,
   "metadata": {
    "colab": {
     "base_uri": "https://localhost:8080/"
    },
    "id": "YRZC3KPjdhAB",
    "outputId": "905f8152-cd70-4d6d-8954-b62de0ba8b21"
   },
   "outputs": [
    {
     "name": "stdout",
     "output_type": "stream",
     "text": [
      "                                                document  cluster\n",
      "5188   apple fans demand other products they can feel...        0\n",
      "1666   5 things you miss about married life as a divo...        0\n",
      "19936         smoker inspired by sight of elderly smoker        0\n",
      "1091   antarctic observational comic running out of i...        0\n",
      "26314  most of trump's voters don't think he's change...        1\n"
     ]
    }
   ],
   "source": [
    "# print random 25 samples\n",
    "print(results.sample(5))"
   ]
  },
  {
   "cell_type": "code",
   "execution_count": 24,
   "metadata": {
    "colab": {
     "base_uri": "https://localhost:8080/",
     "height": 430
    },
    "id": "xVy6hMqWbasX",
    "outputId": "495b6402-559d-4819-8246-48e106beb397"
   },
   "outputs": [
    {
     "data": {
      "image/png": "[encoded data removed]",
      "text/plain": [
       "<Figure size 640x480 with 1 Axes>"
      ]
     },
     "metadata": {},
     "output_type": "display_data"
    }
   ],
   "source": [
    "# plot the results\n",
    "colors = ['red', 'green']\n",
    "cluster = ['Not Sarcastic','Sarcastic']\n",
    "for i in range(num_clusters):\n",
    "\tplt.scatter(reduced_data[kmeans.labels_ == i, 0],\n",
    "\t\t\t\treduced_data[kmeans.labels_ == i, 1],\n",
    "\t\t\t\ts=10, color=colors[i],\n",
    "\t\t\t\tlabel=f' {cluster[i]}')\n",
    "plt.legend()\n",
    "plt.show()\n"
   ]
  },
  {
   "cell_type": "code",
   "execution_count": null,
   "metadata": {
    "id": "NSGnVAhedl73"
   },
   "outputs": [],
   "source": []
  }
 ],
 "metadata": {
  "colab": {
   "provenance": []
  },
  "kernelspec": {
   "display_name": "Python 3 (ipykernel)",
   "language": "python",
   "name": "python3"
  },
  "language_info": {
   "codemirror_mode": {
    "name": "ipython",
    "version": 3
   },
   "file_extension": ".py",
   "mimetype": "text/x-python",
   "name": "python",
   "nbconvert_exporter": "python",
   "pygments_lexer": "ipython3",
   "version": "3.11.5"
  }
 },
 "nbformat": 4,
 "nbformat_minor": 4
}
